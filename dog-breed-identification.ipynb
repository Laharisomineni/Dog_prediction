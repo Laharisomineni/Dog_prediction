{
 "cells": [
  {
   "cell_type": "code",
   "execution_count": 1,
   "id": "8b00cd63",
   "metadata": {},
   "outputs": [
    {
     "name": "stdout",
     "output_type": "stream",
     "text": [
      "Requirement already satisfied: opencv-python in c:\\users\\hp\\anaconda3\\envs\\tensor\\lib\\site-packages (4.7.0.72)\n",
      "Requirement already satisfied: numpy>=1.17.0 in c:\\users\\hp\\anaconda3\\envs\\tensor\\lib\\site-packages (from opencv-python) (1.24.1)\n",
      "Requirement already satisfied: numpy in c:\\users\\hp\\anaconda3\\envs\\tensor\\lib\\site-packages (1.24.1)\n",
      "Requirement already satisfied: tensorflow in c:\\users\\hp\\anaconda3\\envs\\tensor\\lib\\site-packages (2.11.0)\n",
      "Requirement already satisfied: tensorflow-intel==2.11.0 in c:\\users\\hp\\anaconda3\\envs\\tensor\\lib\\site-packages (from tensorflow) (2.11.0)\n",
      "Requirement already satisfied: libclang>=13.0.0 in c:\\users\\hp\\anaconda3\\envs\\tensor\\lib\\site-packages (from tensorflow-intel==2.11.0->tensorflow) (15.0.6.1)\n",
      "Requirement already satisfied: tensorboard<2.12,>=2.11 in c:\\users\\hp\\anaconda3\\envs\\tensor\\lib\\site-packages (from tensorflow-intel==2.11.0->tensorflow) (2.11.2)\n",
      "Requirement already satisfied: numpy>=1.20 in c:\\users\\hp\\anaconda3\\envs\\tensor\\lib\\site-packages (from tensorflow-intel==2.11.0->tensorflow) (1.24.1)\n",
      "Requirement already satisfied: tensorflow-io-gcs-filesystem>=0.23.1 in c:\\users\\hp\\anaconda3\\envs\\tensor\\lib\\site-packages (from tensorflow-intel==2.11.0->tensorflow) (0.30.0)\n",
      "Requirement already satisfied: absl-py>=1.0.0 in c:\\users\\hp\\anaconda3\\envs\\tensor\\lib\\site-packages (from tensorflow-intel==2.11.0->tensorflow) (1.4.0)\n",
      "Requirement already satisfied: protobuf<3.20,>=3.9.2 in c:\\users\\hp\\anaconda3\\envs\\tensor\\lib\\site-packages (from tensorflow-intel==2.11.0->tensorflow) (3.19.6)\n",
      "Requirement already satisfied: opt-einsum>=2.3.2 in c:\\users\\hp\\anaconda3\\envs\\tensor\\lib\\site-packages (from tensorflow-intel==2.11.0->tensorflow) (3.3.0)\n",
      "Requirement already satisfied: grpcio<2.0,>=1.24.3 in c:\\users\\hp\\anaconda3\\envs\\tensor\\lib\\site-packages (from tensorflow-intel==2.11.0->tensorflow) (1.51.1)\n",
      "Requirement already satisfied: flatbuffers>=2.0 in c:\\users\\hp\\anaconda3\\envs\\tensor\\lib\\site-packages (from tensorflow-intel==2.11.0->tensorflow) (23.1.21)\n",
      "Requirement already satisfied: wrapt>=1.11.0 in c:\\users\\hp\\anaconda3\\envs\\tensor\\lib\\site-packages (from tensorflow-intel==2.11.0->tensorflow) (1.14.1)\n",
      "Requirement already satisfied: astunparse>=1.6.0 in c:\\users\\hp\\anaconda3\\envs\\tensor\\lib\\site-packages (from tensorflow-intel==2.11.0->tensorflow) (1.6.3)\n",
      "Requirement already satisfied: h5py>=2.9.0 in c:\\users\\hp\\anaconda3\\envs\\tensor\\lib\\site-packages (from tensorflow-intel==2.11.0->tensorflow) (3.8.0)\n",
      "Requirement already satisfied: six>=1.12.0 in c:\\users\\hp\\anaconda3\\envs\\tensor\\lib\\site-packages (from tensorflow-intel==2.11.0->tensorflow) (1.16.0)\n",
      "Requirement already satisfied: keras<2.12,>=2.11.0 in c:\\users\\hp\\anaconda3\\envs\\tensor\\lib\\site-packages (from tensorflow-intel==2.11.0->tensorflow) (2.11.0)\n",
      "Requirement already satisfied: tensorflow-estimator<2.12,>=2.11.0 in c:\\users\\hp\\anaconda3\\envs\\tensor\\lib\\site-packages (from tensorflow-intel==2.11.0->tensorflow) (2.11.0)\n",
      "Requirement already satisfied: packaging in c:\\users\\hp\\anaconda3\\envs\\tensor\\lib\\site-packages (from tensorflow-intel==2.11.0->tensorflow) (22.0)\n",
      "Requirement already satisfied: google-pasta>=0.1.1 in c:\\users\\hp\\anaconda3\\envs\\tensor\\lib\\site-packages (from tensorflow-intel==2.11.0->tensorflow) (0.2.0)\n",
      "Requirement already satisfied: gast<=0.4.0,>=0.2.1 in c:\\users\\hp\\anaconda3\\envs\\tensor\\lib\\site-packages (from tensorflow-intel==2.11.0->tensorflow) (0.4.0)\n",
      "Requirement already satisfied: setuptools in c:\\users\\hp\\anaconda3\\envs\\tensor\\lib\\site-packages (from tensorflow-intel==2.11.0->tensorflow) (65.6.3)\n",
      "Requirement already satisfied: termcolor>=1.1.0 in c:\\users\\hp\\anaconda3\\envs\\tensor\\lib\\site-packages (from tensorflow-intel==2.11.0->tensorflow) (2.2.0)\n",
      "Requirement already satisfied: typing-extensions>=3.6.6 in c:\\users\\hp\\anaconda3\\envs\\tensor\\lib\\site-packages (from tensorflow-intel==2.11.0->tensorflow) (4.4.0)\n",
      "Requirement already satisfied: wheel<1.0,>=0.23.0 in c:\\users\\hp\\anaconda3\\envs\\tensor\\lib\\site-packages (from astunparse>=1.6.0->tensorflow-intel==2.11.0->tensorflow) (0.37.1)\n",
      "Requirement already satisfied: google-auth<3,>=1.6.3 in c:\\users\\hp\\anaconda3\\envs\\tensor\\lib\\site-packages (from tensorboard<2.12,>=2.11->tensorflow-intel==2.11.0->tensorflow) (2.16.0)\n",
      "Requirement already satisfied: werkzeug>=1.0.1 in c:\\users\\hp\\anaconda3\\envs\\tensor\\lib\\site-packages (from tensorboard<2.12,>=2.11->tensorflow-intel==2.11.0->tensorflow) (2.2.3)\n",
      "Requirement already satisfied: google-auth-oauthlib<0.5,>=0.4.1 in c:\\users\\hp\\anaconda3\\envs\\tensor\\lib\\site-packages (from tensorboard<2.12,>=2.11->tensorflow-intel==2.11.0->tensorflow) (0.4.6)\n",
      "Requirement already satisfied: requests<3,>=2.21.0 in c:\\users\\hp\\anaconda3\\envs\\tensor\\lib\\site-packages (from tensorboard<2.12,>=2.11->tensorflow-intel==2.11.0->tensorflow) (2.28.2)\n",
      "Requirement already satisfied: tensorboard-data-server<0.7.0,>=0.6.0 in c:\\users\\hp\\anaconda3\\envs\\tensor\\lib\\site-packages (from tensorboard<2.12,>=2.11->tensorflow-intel==2.11.0->tensorflow) (0.6.1)\n",
      "Requirement already satisfied: markdown>=2.6.8 in c:\\users\\hp\\anaconda3\\envs\\tensor\\lib\\site-packages (from tensorboard<2.12,>=2.11->tensorflow-intel==2.11.0->tensorflow) (3.4.1)\n",
      "Requirement already satisfied: tensorboard-plugin-wit>=1.6.0 in c:\\users\\hp\\anaconda3\\envs\\tensor\\lib\\site-packages (from tensorboard<2.12,>=2.11->tensorflow-intel==2.11.0->tensorflow) (1.8.1)\n",
      "Requirement already satisfied: cachetools<6.0,>=2.0.0 in c:\\users\\hp\\anaconda3\\envs\\tensor\\lib\\site-packages (from google-auth<3,>=1.6.3->tensorboard<2.12,>=2.11->tensorflow-intel==2.11.0->tensorflow) (5.3.0)\n",
      "Requirement already satisfied: rsa<5,>=3.1.4 in c:\\users\\hp\\anaconda3\\envs\\tensor\\lib\\site-packages (from google-auth<3,>=1.6.3->tensorboard<2.12,>=2.11->tensorflow-intel==2.11.0->tensorflow) (4.9)\n",
      "Requirement already satisfied: pyasn1-modules>=0.2.1 in c:\\users\\hp\\anaconda3\\envs\\tensor\\lib\\site-packages (from google-auth<3,>=1.6.3->tensorboard<2.12,>=2.11->tensorflow-intel==2.11.0->tensorflow) (0.2.8)\n",
      "Requirement already satisfied: requests-oauthlib>=0.7.0 in c:\\users\\hp\\anaconda3\\envs\\tensor\\lib\\site-packages (from google-auth-oauthlib<0.5,>=0.4.1->tensorboard<2.12,>=2.11->tensorflow-intel==2.11.0->tensorflow) (1.3.1)\n",
      "Requirement already satisfied: charset-normalizer<4,>=2 in c:\\users\\hp\\anaconda3\\envs\\tensor\\lib\\site-packages (from requests<3,>=2.21.0->tensorboard<2.12,>=2.11->tensorflow-intel==2.11.0->tensorflow) (3.0.1)\n",
      "Requirement already satisfied: certifi>=2017.4.17 in c:\\users\\hp\\anaconda3\\envs\\tensor\\lib\\site-packages (from requests<3,>=2.21.0->tensorboard<2.12,>=2.11->tensorflow-intel==2.11.0->tensorflow) (2022.12.7)\n",
      "Requirement already satisfied: idna<4,>=2.5 in c:\\users\\hp\\anaconda3\\envs\\tensor\\lib\\site-packages (from requests<3,>=2.21.0->tensorboard<2.12,>=2.11->tensorflow-intel==2.11.0->tensorflow) (3.4)\n",
      "Requirement already satisfied: urllib3<1.27,>=1.21.1 in c:\\users\\hp\\anaconda3\\envs\\tensor\\lib\\site-packages (from requests<3,>=2.21.0->tensorboard<2.12,>=2.11->tensorflow-intel==2.11.0->tensorflow) (1.26.14)\n",
      "Requirement already satisfied: MarkupSafe>=2.1.1 in c:\\users\\hp\\anaconda3\\envs\\tensor\\lib\\site-packages (from werkzeug>=1.0.1->tensorboard<2.12,>=2.11->tensorflow-intel==2.11.0->tensorflow) (2.1.1)\n",
      "Requirement already satisfied: pyasn1<0.5.0,>=0.4.6 in c:\\users\\hp\\anaconda3\\envs\\tensor\\lib\\site-packages (from pyasn1-modules>=0.2.1->google-auth<3,>=1.6.3->tensorboard<2.12,>=2.11->tensorflow-intel==2.11.0->tensorflow) (0.4.8)\n",
      "Requirement already satisfied: oauthlib>=3.0.0 in c:\\users\\hp\\anaconda3\\envs\\tensor\\lib\\site-packages (from requests-oauthlib>=0.7.0->google-auth-oauthlib<0.5,>=0.4.1->tensorboard<2.12,>=2.11->tensorflow-intel==2.11.0->tensorflow) (3.2.2)\n",
      "Requirement already satisfied: matplotlib in c:\\users\\hp\\anaconda3\\envs\\tensor\\lib\\site-packages (3.7.0)\n",
      "Requirement already satisfied: kiwisolver>=1.0.1 in c:\\users\\hp\\anaconda3\\envs\\tensor\\lib\\site-packages (from matplotlib) (1.4.4)\n",
      "Requirement already satisfied: fonttools>=4.22.0 in c:\\users\\hp\\anaconda3\\envs\\tensor\\lib\\site-packages (from matplotlib) (4.38.0)\n",
      "Requirement already satisfied: pyparsing>=2.3.1 in c:\\users\\hp\\anaconda3\\envs\\tensor\\lib\\site-packages (from matplotlib) (3.0.9)\n",
      "Requirement already satisfied: python-dateutil>=2.7 in c:\\users\\hp\\anaconda3\\envs\\tensor\\lib\\site-packages (from matplotlib) (2.8.2)\n",
      "Requirement already satisfied: cycler>=0.10 in c:\\users\\hp\\anaconda3\\envs\\tensor\\lib\\site-packages (from matplotlib) (0.11.0)\n",
      "Requirement already satisfied: pillow>=6.2.0 in c:\\users\\hp\\anaconda3\\envs\\tensor\\lib\\site-packages (from matplotlib) (9.4.0)\n",
      "Requirement already satisfied: contourpy>=1.0.1 in c:\\users\\hp\\anaconda3\\envs\\tensor\\lib\\site-packages (from matplotlib) (1.0.7)\n",
      "Requirement already satisfied: packaging>=20.0 in c:\\users\\hp\\anaconda3\\envs\\tensor\\lib\\site-packages (from matplotlib) (22.0)\n",
      "Requirement already satisfied: numpy>=1.20 in c:\\users\\hp\\anaconda3\\envs\\tensor\\lib\\site-packages (from matplotlib) (1.24.1)\n",
      "Requirement already satisfied: six>=1.5 in c:\\users\\hp\\anaconda3\\envs\\tensor\\lib\\site-packages (from python-dateutil>=2.7->matplotlib) (1.16.0)\n",
      "Requirement already satisfied: pandas in c:\\users\\hp\\anaconda3\\envs\\tensor\\lib\\site-packages (1.5.3)\n",
      "Requirement already satisfied: pytz>=2020.1 in c:\\users\\hp\\anaconda3\\envs\\tensor\\lib\\site-packages (from pandas) (2022.7.1)\n",
      "Requirement already satisfied: numpy>=1.21.0 in c:\\users\\hp\\anaconda3\\envs\\tensor\\lib\\site-packages (from pandas) (1.24.1)\n",
      "Requirement already satisfied: python-dateutil>=2.8.1 in c:\\users\\hp\\anaconda3\\envs\\tensor\\lib\\site-packages (from pandas) (2.8.2)\n",
      "Requirement already satisfied: six>=1.5 in c:\\users\\hp\\anaconda3\\envs\\tensor\\lib\\site-packages (from python-dateutil>=2.8.1->pandas) (1.16.0)\n",
      "Requirement already satisfied: seaborn in c:\\users\\hp\\anaconda3\\envs\\tensor\\lib\\site-packages (0.12.2)\n",
      "Requirement already satisfied: pandas>=0.25 in c:\\users\\hp\\anaconda3\\envs\\tensor\\lib\\site-packages (from seaborn) (1.5.3)\n",
      "Requirement already satisfied: matplotlib!=3.6.1,>=3.1 in c:\\users\\hp\\anaconda3\\envs\\tensor\\lib\\site-packages (from seaborn) (3.7.0)\n",
      "Requirement already satisfied: numpy!=1.24.0,>=1.17 in c:\\users\\hp\\anaconda3\\envs\\tensor\\lib\\site-packages (from seaborn) (1.24.1)\n",
      "Requirement already satisfied: kiwisolver>=1.0.1 in c:\\users\\hp\\anaconda3\\envs\\tensor\\lib\\site-packages (from matplotlib!=3.6.1,>=3.1->seaborn) (1.4.4)\n",
      "Requirement already satisfied: pillow>=6.2.0 in c:\\users\\hp\\anaconda3\\envs\\tensor\\lib\\site-packages (from matplotlib!=3.6.1,>=3.1->seaborn) (9.4.0)\n",
      "Requirement already satisfied: python-dateutil>=2.7 in c:\\users\\hp\\anaconda3\\envs\\tensor\\lib\\site-packages (from matplotlib!=3.6.1,>=3.1->seaborn) (2.8.2)\n",
      "Requirement already satisfied: pyparsing>=2.3.1 in c:\\users\\hp\\anaconda3\\envs\\tensor\\lib\\site-packages (from matplotlib!=3.6.1,>=3.1->seaborn) (3.0.9)\n",
      "Requirement already satisfied: fonttools>=4.22.0 in c:\\users\\hp\\anaconda3\\envs\\tensor\\lib\\site-packages (from matplotlib!=3.6.1,>=3.1->seaborn) (4.38.0)\n",
      "Requirement already satisfied: contourpy>=1.0.1 in c:\\users\\hp\\anaconda3\\envs\\tensor\\lib\\site-packages (from matplotlib!=3.6.1,>=3.1->seaborn) (1.0.7)\n",
      "Requirement already satisfied: cycler>=0.10 in c:\\users\\hp\\anaconda3\\envs\\tensor\\lib\\site-packages (from matplotlib!=3.6.1,>=3.1->seaborn) (0.11.0)\n",
      "Requirement already satisfied: packaging>=20.0 in c:\\users\\hp\\anaconda3\\envs\\tensor\\lib\\site-packages (from matplotlib!=3.6.1,>=3.1->seaborn) (22.0)\n",
      "Requirement already satisfied: pytz>=2020.1 in c:\\users\\hp\\anaconda3\\envs\\tensor\\lib\\site-packages (from pandas>=0.25->seaborn) (2022.7.1)\n",
      "Requirement already satisfied: six>=1.5 in c:\\users\\hp\\anaconda3\\envs\\tensor\\lib\\site-packages (from python-dateutil>=2.7->matplotlib!=3.6.1,>=3.1->seaborn) (1.16.0)\n",
      "Requirement already satisfied: tqdm in c:\\users\\hp\\anaconda3\\envs\\tensor\\lib\\site-packages (4.64.1)\n",
      "Requirement already satisfied: colorama in c:\\users\\hp\\anaconda3\\envs\\tensor\\lib\\site-packages (from tqdm) (0.4.6)\n"
     ]
    }
   ],
   "source": [
    "!pip install opencv-python\n",
    "!pip install numpy\n",
    "!pip install tensorflow\n",
    "!pip install matplotlib\n",
    "!pip install pandas\n",
    "!pip install seaborn\n",
    "!pip install tqdm\n"
   ]
  },
  {
   "cell_type": "code",
   "execution_count": 2,
   "id": "d1732577",
   "metadata": {
    "_cell_guid": "b1076dfc-b9ad-4769-8c92-a6c4dae69d19",
    "_uuid": "8f2839f25d086af736a60e9eeb907d3b93b6e0e5",
    "execution": {
     "iopub.execute_input": "2023-02-20T19:14:41.183011Z",
     "iopub.status.busy": "2023-02-20T19:14:41.182357Z",
     "iopub.status.idle": "2023-02-20T19:14:42.362927Z",
     "shell.execute_reply": "2023-02-20T19:14:42.361737Z"
    },
    "papermill": {
     "duration": 1.196334,
     "end_time": "2023-02-20T19:14:42.365767",
     "exception": false,
     "start_time": "2023-02-20T19:14:41.169433",
     "status": "completed"
    },
    "tags": []
   },
   "outputs": [],
   "source": [
    "import os, cv2, random, time, shutil, csv\n",
    "import numpy as np\n",
    "import pandas as pd\n",
    "import seaborn as sns\n",
    "import matplotlib.pyplot as plt\n",
    "import matplotlib.image as mpimg\n",
    "import tqdm as tqdm\n",
    "import json"
   ]
  },
  {
   "cell_type": "code",
   "execution_count": 3,
   "id": "cab7be35",
   "metadata": {
    "execution": {
     "iopub.execute_input": "2023-02-20T19:15:01.368090Z",
     "iopub.status.busy": "2023-02-20T19:15:01.367687Z",
     "iopub.status.idle": "2023-02-20T19:15:01.416021Z",
     "shell.execute_reply": "2023-02-20T19:15:01.414839Z"
    },
    "papermill": {
     "duration": 0.059097,
     "end_time": "2023-02-20T19:15:01.418355",
     "exception": false,
     "start_time": "2023-02-20T19:15:01.359258",
     "status": "completed"
    },
    "tags": []
   },
   "outputs": [
    {
     "data": {
      "text/html": [
       "<div>\n",
       "<style scoped>\n",
       "    .dataframe tbody tr th:only-of-type {\n",
       "        vertical-align: middle;\n",
       "    }\n",
       "\n",
       "    .dataframe tbody tr th {\n",
       "        vertical-align: top;\n",
       "    }\n",
       "\n",
       "    .dataframe thead th {\n",
       "        text-align: right;\n",
       "    }\n",
       "</style>\n",
       "<table border=\"1\" class=\"dataframe\">\n",
       "  <thead>\n",
       "    <tr style=\"text-align: right;\">\n",
       "      <th></th>\n",
       "      <th>id</th>\n",
       "      <th>breed</th>\n",
       "    </tr>\n",
       "  </thead>\n",
       "  <tbody>\n",
       "    <tr>\n",
       "      <th>0</th>\n",
       "      <td>000bec180eb18c7604dcecc8fe0dba07</td>\n",
       "      <td>boston_bull</td>\n",
       "    </tr>\n",
       "    <tr>\n",
       "      <th>1</th>\n",
       "      <td>001513dfcb2ffafc82cccf4d8bbaba97</td>\n",
       "      <td>dingo</td>\n",
       "    </tr>\n",
       "    <tr>\n",
       "      <th>2</th>\n",
       "      <td>001cdf01b096e06d78e9e5112d419397</td>\n",
       "      <td>pekinese</td>\n",
       "    </tr>\n",
       "    <tr>\n",
       "      <th>3</th>\n",
       "      <td>00214f311d5d2247d5dfe4fe24b2303d</td>\n",
       "      <td>bluetick</td>\n",
       "    </tr>\n",
       "    <tr>\n",
       "      <th>4</th>\n",
       "      <td>0021f9ceb3235effd7fcde7f7538ed62</td>\n",
       "      <td>golden_retriever</td>\n",
       "    </tr>\n",
       "  </tbody>\n",
       "</table>\n",
       "</div>"
      ],
      "text/plain": [
       "                                 id             breed\n",
       "0  000bec180eb18c7604dcecc8fe0dba07       boston_bull\n",
       "1  001513dfcb2ffafc82cccf4d8bbaba97             dingo\n",
       "2  001cdf01b096e06d78e9e5112d419397          pekinese\n",
       "3  00214f311d5d2247d5dfe4fe24b2303d          bluetick\n",
       "4  0021f9ceb3235effd7fcde7f7538ed62  golden_retriever"
      ]
     },
     "execution_count": 3,
     "metadata": {},
     "output_type": "execute_result"
    }
   ],
   "source": [
    "labels_df = pd.read_csv('C:/Users/HP/Desktop/Dog/labels.csv')\n",
    "labels_df.head()"
   ]
  },
  {
   "cell_type": "code",
   "execution_count": 4,
   "id": "b47342b8",
   "metadata": {
    "execution": {
     "iopub.execute_input": "2023-02-20T19:15:01.434990Z",
     "iopub.status.busy": "2023-02-20T19:15:01.434346Z",
     "iopub.status.idle": "2023-02-20T19:15:01.462409Z",
     "shell.execute_reply": "2023-02-20T19:15:01.461365Z"
    },
    "papermill": {
     "duration": 0.039333,
     "end_time": "2023-02-20T19:15:01.464966",
     "exception": false,
     "start_time": "2023-02-20T19:15:01.425633",
     "status": "completed"
    },
    "scrolled": true,
    "tags": []
   },
   "outputs": [
    {
     "data": {
      "text/html": [
       "<div>\n",
       "<style scoped>\n",
       "    .dataframe tbody tr th:only-of-type {\n",
       "        vertical-align: middle;\n",
       "    }\n",
       "\n",
       "    .dataframe tbody tr th {\n",
       "        vertical-align: top;\n",
       "    }\n",
       "\n",
       "    .dataframe thead th {\n",
       "        text-align: right;\n",
       "    }\n",
       "</style>\n",
       "<table border=\"1\" class=\"dataframe\">\n",
       "  <thead>\n",
       "    <tr style=\"text-align: right;\">\n",
       "      <th></th>\n",
       "      <th>id</th>\n",
       "      <th>breed</th>\n",
       "    </tr>\n",
       "  </thead>\n",
       "  <tbody>\n",
       "    <tr>\n",
       "      <th>count</th>\n",
       "      <td>10222</td>\n",
       "      <td>10222</td>\n",
       "    </tr>\n",
       "    <tr>\n",
       "      <th>unique</th>\n",
       "      <td>10222</td>\n",
       "      <td>120</td>\n",
       "    </tr>\n",
       "    <tr>\n",
       "      <th>top</th>\n",
       "      <td>000bec180eb18c7604dcecc8fe0dba07</td>\n",
       "      <td>scottish_deerhound</td>\n",
       "    </tr>\n",
       "    <tr>\n",
       "      <th>freq</th>\n",
       "      <td>1</td>\n",
       "      <td>126</td>\n",
       "    </tr>\n",
       "  </tbody>\n",
       "</table>\n",
       "</div>"
      ],
      "text/plain": [
       "                                      id               breed\n",
       "count                              10222               10222\n",
       "unique                             10222                 120\n",
       "top     000bec180eb18c7604dcecc8fe0dba07  scottish_deerhound\n",
       "freq                                   1                 126"
      ]
     },
     "execution_count": 4,
     "metadata": {},
     "output_type": "execute_result"
    }
   ],
   "source": [
    "labels_df.describe()"
   ]
  },
  {
   "cell_type": "code",
   "execution_count": 5,
   "id": "fd823292",
   "metadata": {
    "execution": {
     "iopub.execute_input": "2023-02-20T19:15:02.582542Z",
     "iopub.status.busy": "2023-02-20T19:15:02.582176Z",
     "iopub.status.idle": "2023-02-20T19:15:02.589106Z",
     "shell.execute_reply": "2023-02-20T19:15:02.588065Z"
    },
    "papermill": {
     "duration": 0.018535,
     "end_time": "2023-02-20T19:15:02.591327",
     "exception": false,
     "start_time": "2023-02-20T19:15:02.572792",
     "status": "completed"
    },
    "tags": []
   },
   "outputs": [],
   "source": [
    "dog_breeds = sorted(list(set(labels_df['breed'])))\n",
    "n_classes = len(dog_breeds)\n",
    "class_to_num = dict(zip(dog_breeds, range(n_classes)))\n",
    "train_dir = 'C:/Users/HP/Desktop/Dog/train/'\n",
    "test_dir = 'C:/Users/HP/Desktop/Dog/test/'"
   ]
  },
  {
   "cell_type": "code",
   "execution_count": 6,
   "id": "05d725fe",
   "metadata": {
    "execution": {
     "iopub.execute_input": "2023-02-20T19:15:02.609059Z",
     "iopub.status.busy": "2023-02-20T19:15:02.608699Z",
     "iopub.status.idle": "2023-02-20T19:15:09.871342Z",
     "shell.execute_reply": "2023-02-20T19:15:09.870219Z"
    },
    "papermill": {
     "duration": 7.27457,
     "end_time": "2023-02-20T19:15:09.874090",
     "exception": false,
     "start_time": "2023-02-20T19:15:02.599520",
     "status": "completed"
    },
    "tags": []
   },
   "outputs": [],
   "source": [
    "import tensorflow as tf\n",
    "from tensorflow.random import shuffle\n",
    "from tensorflow.keras.applications.resnet50 import ResNet50\n",
    "from tensorflow.keras.applications.resnet50 import preprocess_input\n",
    "from tensorflow.keras.optimizers import Adam\n",
    "from tensorflow.keras.preprocessing.image import ImageDataGenerator\n",
    "from tensorflow.keras.models import Model\n",
    "from tensorflow.keras.layers import BatchNormalization, Dense, GlobalAveragePooling2D, Lambda, Dropout, InputLayer, Input\n",
    "from tensorflow.keras.utils import to_categorical\n",
    "from tensorflow.keras.preprocessing.image import load_img\n",
    "from tensorflow.keras.preprocessing import image\n",
    "import gc"
   ]
  },
  {
   "cell_type": "code",
   "execution_count": 7,
   "id": "6ea37f8d",
   "metadata": {
    "execution": {
     "iopub.execute_input": "2023-02-20T19:15:09.892631Z",
     "iopub.status.busy": "2023-02-20T19:15:09.891907Z",
     "iopub.status.idle": "2023-02-20T19:15:15.845362Z",
     "shell.execute_reply": "2023-02-20T19:15:15.844305Z"
    },
    "papermill": {
     "duration": 5.965537,
     "end_time": "2023-02-20T19:15:15.847883",
     "exception": false,
     "start_time": "2023-02-20T19:15:09.882346",
     "status": "completed"
    },
    "tags": []
   },
   "outputs": [],
   "source": [
    "base_model = ResNet50(weights='imagenet', include_top=False, input_shape=(128, 128, 3))"
   ]
  },
  {
   "cell_type": "code",
   "execution_count": 8,
   "id": "d45694a2",
   "metadata": {
    "execution": {
     "iopub.execute_input": "2023-02-20T19:15:15.874698Z",
     "iopub.status.busy": "2023-02-20T19:15:15.874313Z",
     "iopub.status.idle": "2023-02-20T19:15:15.884025Z",
     "shell.execute_reply": "2023-02-20T19:15:15.883209Z"
    },
    "papermill": {
     "duration": 0.025412,
     "end_time": "2023-02-20T19:15:15.885994",
     "exception": false,
     "start_time": "2023-02-20T19:15:15.860582",
     "status": "completed"
    },
    "tags": []
   },
   "outputs": [],
   "source": [
    "for layer in base_model.layers:\n",
    "    layer.trainable = False"
   ]
  },
  {
   "cell_type": "code",
   "execution_count": 9,
   "id": "dc3de18d",
   "metadata": {
    "execution": {
     "iopub.execute_input": "2023-02-20T19:15:15.913312Z",
     "iopub.status.busy": "2023-02-20T19:15:15.912618Z",
     "iopub.status.idle": "2023-02-20T19:15:15.952528Z",
     "shell.execute_reply": "2023-02-20T19:15:15.951446Z"
    },
    "papermill": {
     "duration": 0.056408,
     "end_time": "2023-02-20T19:15:15.955213",
     "exception": false,
     "start_time": "2023-02-20T19:15:15.898805",
     "status": "completed"
    },
    "tags": []
   },
   "outputs": [],
   "source": [
    "x = base_model.output\n",
    "x = GlobalAveragePooling2D()(x)\n",
    "x = Dense(1024, activation='relu')(x)\n",
    "x = Dropout(0.5)(x)\n",
    "predictions = Dense(n_classes, activation='softmax')(x)"
   ]
  },
  {
   "cell_type": "code",
   "execution_count": 10,
   "id": "d3c0b85d",
   "metadata": {
    "execution": {
     "iopub.execute_input": "2023-02-20T19:15:15.981724Z",
     "iopub.status.busy": "2023-02-20T19:15:15.981314Z",
     "iopub.status.idle": "2023-02-20T19:15:16.011630Z",
     "shell.execute_reply": "2023-02-20T19:15:16.010746Z"
    },
    "papermill": {
     "duration": 0.04633,
     "end_time": "2023-02-20T19:15:16.014048",
     "exception": false,
     "start_time": "2023-02-20T19:15:15.967718",
     "status": "completed"
    },
    "tags": []
   },
   "outputs": [],
   "source": [
    "model = Model(inputs=base_model.input, outputs=predictions)\n",
    "model.compile(optimizer='adam', loss='categorical_crossentropy', metrics=['accuracy'])"
   ]
  },
  {
   "cell_type": "code",
   "execution_count": 11,
   "id": "2a36376d",
   "metadata": {
    "execution": {
     "iopub.execute_input": "2023-02-20T19:15:16.040681Z",
     "iopub.status.busy": "2023-02-20T19:15:16.040294Z",
     "iopub.status.idle": "2023-02-20T19:15:16.047802Z",
     "shell.execute_reply": "2023-02-20T19:15:16.046760Z"
    },
    "papermill": {
     "duration": 0.023446,
     "end_time": "2023-02-20T19:15:16.049981",
     "exception": false,
     "start_time": "2023-02-20T19:15:16.026535",
     "status": "completed"
    },
    "tags": []
   },
   "outputs": [],
   "source": [
    "def load_train_images(dir_path):\n",
    "    x_train, y_train = [], []\n",
    "    for img_path in os.listdir(dir_path):\n",
    "        img = load_img(os.path.join(dir_path, img_path), target_size=(128, 128, 1))\n",
    "        x_train.append(preprocess_input(np.array(img).astype(\"float32\")))\n",
    "        img_name = img_path.split('/')[-1].split('.')[0]\n",
    "        class_id = class_to_num[labels_df[labels_df['id'] == img_name]['breed'].values[0]]\n",
    "        y_train.append(class_id)\n",
    "    x_train = np.array(x_train)\n",
    "    y_train = to_categorical(y_train, num_classes=n_classes)\n",
    "    \n",
    "    return x_train, y_train"
   ]
  },
  {
   "cell_type": "code",
   "execution_count": 12,
   "id": "c476eb96",
   "metadata": {
    "execution": {
     "iopub.execute_input": "2023-02-20T19:15:16.076593Z",
     "iopub.status.busy": "2023-02-20T19:15:16.076175Z",
     "iopub.status.idle": "2023-02-20T19:17:09.662494Z",
     "shell.execute_reply": "2023-02-20T19:17:09.661248Z"
    },
    "papermill": {
     "duration": 113.61498,
     "end_time": "2023-02-20T19:17:09.677384",
     "exception": false,
     "start_time": "2023-02-20T19:15:16.062404",
     "status": "completed"
    },
    "tags": []
   },
   "outputs": [
    {
     "name": "stdout",
     "output_type": "stream",
     "text": [
      "(10222, 128, 128, 3)\n",
      "(10222, 120)\n"
     ]
    }
   ],
   "source": [
    "x_train, y_train = load_train_images(train_dir)\n",
    "print(x_train.shape)\n",
    "print(y_train.shape)"
   ]
  },
  {
   "cell_type": "code",
   "execution_count": 13,
   "id": "417536bf",
   "metadata": {
    "execution": {
     "iopub.execute_input": "2023-02-20T19:17:09.704087Z",
     "iopub.status.busy": "2023-02-20T19:17:09.703693Z",
     "iopub.status.idle": "2023-02-20T19:17:09.709833Z",
     "shell.execute_reply": "2023-02-20T19:17:09.708953Z"
    },
    "papermill": {
     "duration": 0.022128,
     "end_time": "2023-02-20T19:17:09.711858",
     "exception": false,
     "start_time": "2023-02-20T19:17:09.689730",
     "status": "completed"
    },
    "tags": []
   },
   "outputs": [],
   "source": [
    "def load_test_images(dir_path):\n",
    "    x_test = []\n",
    "    for img_path in os.listdir(dir_path):\n",
    "        img = load_img(os.path.join(dir_path, img_path), target_size=(128, 128, 1))\n",
    "        x_test.append(preprocess_input(np.array(img).astype(\"float32\")))\n",
    "    x_test = np.array(x_test)\n",
    "    return x_test"
   ]
  },
  {
   "cell_type": "code",
   "execution_count": 14,
   "id": "46e2496a",
   "metadata": {
    "execution": {
     "iopub.execute_input": "2023-02-20T19:17:09.738778Z",
     "iopub.status.busy": "2023-02-20T19:17:09.738089Z",
     "iopub.status.idle": "2023-02-20T19:18:46.865610Z",
     "shell.execute_reply": "2023-02-20T19:18:46.864643Z"
    },
    "papermill": {
     "duration": 97.162968,
     "end_time": "2023-02-20T19:18:46.887287",
     "exception": false,
     "start_time": "2023-02-20T19:17:09.724319",
     "status": "completed"
    },
    "tags": []
   },
   "outputs": [
    {
     "name": "stdout",
     "output_type": "stream",
     "text": [
      "(10357, 128, 128, 3)\n"
     ]
    }
   ],
   "source": [
    "x_test = load_test_images(test_dir)\n",
    "print(x_test.shape)"
   ]
  },
  {
   "cell_type": "code",
   "execution_count": 15,
   "id": "2c4b11a9",
   "metadata": {
    "_kg_hide-output": true,
    "execution": {
     "iopub.execute_input": "2023-02-20T19:18:46.920057Z",
     "iopub.status.busy": "2023-02-20T19:18:46.919655Z",
     "iopub.status.idle": "2023-02-20T23:43:28.316756Z",
     "shell.execute_reply": "2023-02-20T23:43:28.315582Z"
    },
    "papermill": {
     "duration": 15881.417825,
     "end_time": "2023-02-20T23:43:28.319232",
     "exception": false,
     "start_time": "2023-02-20T19:18:46.901407",
     "status": "completed"
    },
    "tags": []
   },
   "outputs": [
    {
     "name": "stdout",
     "output_type": "stream",
     "text": [
      "Epoch 1/3\n",
      "160/160 [==============================] - 216s 1s/step - loss: 3.2461 - accuracy: 0.2731\n",
      "Epoch 2/3\n",
      "160/160 [==============================] - 229s 1s/step - loss: 2.0861 - accuracy: 0.4508\n",
      "Epoch 3/3\n",
      "160/160 [==============================] - 239s 1s/step - loss: 1.8178 - accuracy: 0.5046\n"
     ]
    }
   ],
   "source": [
    "history = model.fit(x_train, y_train, epochs=3, batch_size=64)"
   ]
  },
  {
   "cell_type": "code",
   "execution_count": 16,
   "id": "20c9cd00",
   "metadata": {},
   "outputs": [
    {
     "name": "stderr",
     "output_type": "stream",
     "text": [
      "WARNING:absl:Found untraced functions such as _jit_compiled_convolution_op, _jit_compiled_convolution_op, _jit_compiled_convolution_op, _jit_compiled_convolution_op, _jit_compiled_convolution_op while saving (showing 5 of 54). These functions will not be directly callable after loading.\n"
     ]
    },
    {
     "name": "stdout",
     "output_type": "stream",
     "text": [
      "INFO:tensorflow:Assets written to: saved_model/my_model\\assets\n"
     ]
    },
    {
     "name": "stderr",
     "output_type": "stream",
     "text": [
      "INFO:tensorflow:Assets written to: saved_model/my_model\\assets\n"
     ]
    }
   ],
   "source": [
    "!mkdir -p saved_model\n",
    "model.save('saved_model/my_model')"
   ]
  },
  {
   "cell_type": "code",
   "execution_count": 17,
   "id": "778e7cf2",
   "metadata": {
    "execution": {
     "iopub.execute_input": "2023-02-20T23:43:29.445554Z",
     "iopub.status.busy": "2023-02-20T23:43:29.444551Z",
     "iopub.status.idle": "2023-02-20T23:43:29.453197Z",
     "shell.execute_reply": "2023-02-20T23:43:29.452096Z"
    },
    "papermill": {
     "duration": 0.613236,
     "end_time": "2023-02-20T23:43:29.455638",
     "exception": false,
     "start_time": "2023-02-20T23:43:28.842402",
     "status": "completed"
    },
    "tags": []
   },
   "outputs": [],
   "source": [
    "def plot_model_history(history, fig_title, shape=(24,6)):\n",
    "    fig, ax = plt.subplots(1,2, figsize=shape)\n",
    "    fig.suptitle(fig_title, fontsize=16)\n",
    "    ax[0].plot(history.history['loss'],     color='b', label=\"Training loss\")\n",
    "    #ax[0].plot(history.history['val_loss'], color='r', label=\"validation loss\",axes =ax[0])\n",
    "    legend = ax[0].legend(loc='best', shadow=True)\n",
    "    ax[0].set_xlabel('Epochs')\n",
    "    ax[0].set_ylabel('Loss')\n",
    "    ax[1].plot(history.history['accuracy'],     color='b', label=\"Training accuracy\")\n",
    "    #ax[1].plot(history.history['val_accuracy'], color='r', label=\"Validation accuracy\")\n",
    "    legend = ax[1].legend(loc='best', shadow=True)\n",
    "    ax[1].set_xlabel('Epochs')\n",
    "    ax[1].set_ylabel('Accuracy')\n",
    "    plt.show()"
   ]
  },
  {
   "cell_type": "code",
   "execution_count": 18,
   "id": "39f00958",
   "metadata": {
    "execution": {
     "iopub.execute_input": "2023-02-20T23:43:30.491320Z",
     "iopub.status.busy": "2023-02-20T23:43:30.490895Z",
     "iopub.status.idle": "2023-02-20T23:43:30.938642Z",
     "shell.execute_reply": "2023-02-20T23:43:30.937575Z"
    },
    "papermill": {
     "duration": 0.970265,
     "end_time": "2023-02-20T23:43:30.941050",
     "exception": false,
     "start_time": "2023-02-20T23:43:29.970785",
     "status": "completed"
    },
    "tags": []
   },
   "outputs": [
    {
     "data": {
      "image/png": "[encoded data removed]",
      "text/plain": [
       "<Figure size 2400x600 with 2 Axes>"
      ]
     },
     "metadata": {},
     "output_type": "display_data"
    }
   ],
   "source": [
    "plot_model_history(history, 'History of the Model')"
   ]
  },
  {
   "cell_type": "code",
   "execution_count": 19,
   "id": "156a15ca",
   "metadata": {
    "execution": {
     "iopub.execute_input": "2023-02-20T23:48:49.625069Z",
     "iopub.status.busy": "2023-02-20T23:48:49.623984Z",
     "iopub.status.idle": "2023-02-20T23:48:49.629379Z",
     "shell.execute_reply": "2023-02-20T23:48:49.628537Z"
    },
    "papermill": {
     "duration": 0.550951,
     "end_time": "2023-02-20T23:48:49.631797",
     "exception": false,
     "start_time": "2023-02-20T23:48:49.080846",
     "status": "completed"
    },
    "tags": []
   },
   "outputs": [
    {
     "name": "stdout",
     "output_type": "stream",
     "text": [
      "(10222, 128, 128, 3)\n",
      "(10222, 120)\n",
      "(10357, 128, 128, 3)\n"
     ]
    }
   ],
   "source": [
    "from keras.applications.inception_v3 import InceptionV3, preprocess_input\n",
    "inception_preprocessor = preprocess_input\n",
    "def load_train_images(dir_path):\n",
    "    x_train, y_train = [], []\n",
    "    for img_path in os.listdir(dir_path):\n",
    "        img = load_img(os.path.join(dir_path, img_path), target_size=(128, 128, 1))\n",
    "        x_train.append(inception_preprocessor(np.array(img).astype(\"float32\")))\n",
    "        img_name = img_path.split('/')[-1].split('.')[0]\n",
    "        class_id = class_to_num[labels_df[labels_df['id'] == img_name]['breed'].values[0]]\n",
    "        y_train.append(class_id)\n",
    "    x_train = np.array(x_train)\n",
    "    y_train = to_categorical(y_train, num_classes=n_classes)\n",
    "    \n",
    "    return x_train, y_train\n",
    "def load_test_images(dir_path):\n",
    "    x_test = []\n",
    "    for img_path in os.listdir(dir_path):\n",
    "        img = load_img(os.path.join(dir_path, img_path), target_size=(128, 128, 1))\n",
    "        x_test.append(inception_preprocessor(np.array(img).astype(\"float32\")))\n",
    "    x_test = np.array(x_test)\n",
    "    return x_test\n",
    "x_train, y_train = load_train_images(train_dir)\n",
    "print(x_train.shape)\n",
    "print(y_train.shape)\n",
    "x_test = load_test_images(test_dir)\n",
    "print(x_test.shape)\n",
    "base_model = InceptionV3(weights='imagenet', include_top=False, input_shape=(128, 128, 3))\n",
    "for layer in base_model.layers:\n",
    "    layer.trainable = False\n",
    "x = base_model.output\n",
    "x = GlobalAveragePooling2D()(x)\n",
    "x = Dense(1024, activation='relu')(x)\n",
    "x = Dropout(0.5)(x)\n",
    "predictions = Dense(n_classes, activation='softmax')(x)\n",
    "model = Model(inputs=base_model.input, outputs=predictions)\n",
    "model.compile(optimizer='adam', loss='categorical_crossentropy', metrics=['accuracy'])\n",
    "\n",
    "#from keras.applications.xception import Xception, preprocess_input\n",
    "#xception_preprocessor = preprocess_input\n",
    "#from keras.applications.nasnet import NASNetLarge, preprocess_input\n",
    "#nasnet_preprocessor = preprocess_input\n",
    "#from keras.applications.inception_resnet_v2 import InceptionResNetV2, preprocess_input\n",
    "#inc_resnet_preprocessor = preprocess_input\n",
    "\n",
    "#models = [InceptionV3,  InceptionResNetV2, Xception, ]\n",
    "#preprocs = [inception_preprocessor,  inc_resnet_preprocessor, xception_preprocessor]"
   ]
  },
  {
   "cell_type": "code",
   "execution_count": 20,
   "id": "ecf96e60",
   "metadata": {},
   "outputs": [
    {
     "name": "stdout",
     "output_type": "stream",
     "text": [
      "Epoch 1/3\n",
      "160/160 [==============================] - 86s 511ms/step - loss: 3.6994 - accuracy: 0.2186\n",
      "Epoch 2/3\n",
      "160/160 [==============================] - 80s 502ms/step - loss: 2.5936 - accuracy: 0.3665\n",
      "Epoch 3/3\n",
      "160/160 [==============================] - 81s 509ms/step - loss: 2.3487 - accuracy: 0.4069\n"
     ]
    }
   ],
   "source": [
    "history = model.fit(x_train, y_train, epochs=3, batch_size=64)"
   ]
  },
  {
   "cell_type": "code",
   "execution_count": 21,
   "id": "193ccbc5",
   "metadata": {},
   "outputs": [
    {
     "name": "stderr",
     "output_type": "stream",
     "text": [
      "WARNING:absl:Found untraced functions such as _jit_compiled_convolution_op, _jit_compiled_convolution_op, _jit_compiled_convolution_op, _jit_compiled_convolution_op, _jit_compiled_convolution_op while saving (showing 5 of 95). These functions will not be directly callable after loading.\n"
     ]
    },
    {
     "name": "stdout",
     "output_type": "stream",
     "text": [
      "INFO:tensorflow:Assets written to: saved_model/my_model2\\assets\n"
     ]
    },
    {
     "name": "stderr",
     "output_type": "stream",
     "text": [
      "INFO:tensorflow:Assets written to: saved_model/my_model2\\assets\n"
     ]
    }
   ],
   "source": [
    "model.save('saved_model/my_model2')"
   ]
  },
  {
   "cell_type": "code",
   "execution_count": 22,
   "id": "ec6e4e4a",
   "metadata": {},
   "outputs": [
    {
     "data": {
      "image/png": "[encoded data removed]",
      "text/plain": [
       "<Figure size 2400x600 with 2 Axes>"
      ]
     },
     "metadata": {},
     "output_type": "display_data"
    }
   ],
   "source": [
    "def plot_model_history(history, fig_title, shape=(24,6)):\n",
    "    fig, ax = plt.subplots(1,2, figsize=shape)\n",
    "    fig.suptitle(fig_title, fontsize=16)\n",
    "    ax[0].plot(history.history['loss'],     color='b', label=\"Training loss\")\n",
    "    #ax[0].plot(history.history['val_loss'], color='r', label=\"validation loss\",axes =ax[0])\n",
    "    legend = ax[0].legend(loc='best', shadow=True)\n",
    "    ax[0].set_xlabel('Epochs')\n",
    "    ax[0].set_ylabel('Loss')\n",
    "    ax[1].plot(history.history['accuracy'],     color='b', label=\"Training accuracy\")\n",
    "    #ax[1].plot(history.history['val_accuracy'], color='r', label=\"Validation accuracy\")\n",
    "    legend = ax[1].legend(loc='best', shadow=True)\n",
    "    ax[1].set_xlabel('Epochs')\n",
    "    ax[1].set_ylabel('Accuracy')\n",
    "    plt.show()\n",
    "plot_model_history(history, 'History of the Model')"
   ]
  }
 ],
 "metadata": {
  "kernelspec": {
   "display_name": "Python 3 (ipykernel)",
   "language": "python",
   "name": "python3"
  },
  "language_info": {
   "codemirror_mode": {
    "name": "ipython",
    "version": 3
   },
   "file_extension": ".py",
   "mimetype": "text/x-python",
   "name": "python",
   "nbconvert_exporter": "python",
   "pygments_lexer": "ipython3",
   "version": "3.10.9"
  },
  "papermill": {
   "default_parameters": {},
   "duration": 16777.712961,
   "end_time": "2023-02-20T23:54:10.675089",
   "environment_variables": {},
   "exception": null,
   "input_path": "__notebook__.ipynb",
   "output_path": "__notebook__.ipynb",
   "parameters": {},
   "start_time": "2023-02-20T19:14:32.962128",
   "version": "2.3.4"
  }
 },
 "nbformat": 4,
 "nbformat_minor": 5
}
